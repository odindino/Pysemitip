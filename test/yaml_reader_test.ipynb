{
 "cells": [
  {
   "cell_type": "markdown",
   "id": "597e4f50",
   "metadata": {},
   "source": [
    "# SEMITIP YAML 配置檔案讀取器測試\n",
    "\n",
    "此筆記本用於測試 Pysemitip 專案中的 YAML 配置檔案讀取功能。我們將測試：\n",
    "\n",
    "1. 讀取不同類型的配置檔案 (MultInt 和 MultPlane)\n",
    "2. 驗證配置內容是否符合要求\n",
    "3. 配置物件的屬性訪問\n",
    "4. 修改配置並保存\n",
    "5. 錯誤處理機制\n",
    "\n",
    "作者: Odindino\n",
    "日期: 2025-05-30"
   ]
  },
  {
   "cell_type": "markdown",
   "id": "cb8bf15b",
   "metadata": {},
   "source": [
    "## 1. 導入必要的模組\n",
    "\n",
    "首先，我們需要導入 `YamlConfigReader` 類以及其他必要的模組。"
   ]
  },
  {
   "cell_type": "code",
   "execution_count": 1,
   "id": "50ae8d87",
   "metadata": {},
   "outputs": [],
   "source": [
    "import os\n",
    "import sys\n",
    "import yaml\n",
    "import logging\n",
    "from pathlib import Path\n",
    "from typing import Dict, Any, Optional, Union\n",
    "\n",
    "# 確保能夠導入專案模組\n",
    "current_dir = Path(os.getcwd())\n",
    "project_root = current_dir.parent if 'test' in current_dir.name else current_dir\n",
    "if str(project_root) not in sys.path:\n",
    "    sys.path.insert(0, str(project_root))\n",
    "\n",
    "# 導入專案模組\n",
    "from filereader import YamlConfigReader, load_yaml_config, save_yaml_config\n",
    "from config_schema import SemitipConfig\n",
    "\n",
    "# 設定日誌格式 (可選)\n",
    "logging.basicConfig(level=logging.INFO, format='%(asctime)s - %(levelname)s - %(message)s')\n",
    "logger = logging.getLogger(__name__)"
   ]
  },
  {
   "cell_type": "markdown",
   "id": "db404f6b",
   "metadata": {},
   "source": [
    "## 2. 定義測試用 YAML 檔案路徑\n",
    "\n",
    "接下來，我們需要定義測試用的 YAML 配置檔案路徑。Pysemitip 專案中有兩種主要的配置檔案類型：MultInt 和 MultPlane。"
   ]
  },
  {
   "cell_type": "code",
   "execution_count": 2,
   "id": "60c1c78b",
   "metadata": {},
   "outputs": [
    {
     "name": "stdout",
     "output_type": "stream",
     "text": [
      "MultInt 配置檔案路徑: d:\\Git works\\Pysemitip\\Import_Files\\MultInt_config.yaml\n",
      "MultPlane 配置檔案路徑: d:\\Git works\\Pysemitip\\Import_Files\\MultPlane_config.yaml\n",
      "輸出目錄路徑: d:\\Git works\\Pysemitip\\Output_Files\n",
      "✓ multint 配置檔案存在\n",
      "✓ multplane 配置檔案存在\n"
     ]
    }
   ],
   "source": [
    "# 設定測試檔案路徑\n",
    "test_files = {\n",
    "    'multint': project_root / 'Import_Files' / 'MultInt_config.yaml',\n",
    "    'multplane': project_root / 'Import_Files' / 'MultPlane_config.yaml'\n",
    "}\n",
    "\n",
    "# 輸出檔案路徑 (用於保存修改後的配置)\n",
    "output_dir = project_root / 'Output_Files'\n",
    "output_dir.mkdir(exist_ok=True)\n",
    "\n",
    "# 顯示檔案路徑\n",
    "print(f\"MultInt 配置檔案路徑: {test_files['multint']}\")\n",
    "print(f\"MultPlane 配置檔案路徑: {test_files['multplane']}\")\n",
    "print(f\"輸出目錄路徑: {output_dir}\")\n",
    "\n",
    "# 檢查檔案是否存在\n",
    "for name, path in test_files.items():\n",
    "    if path.exists():\n",
    "        print(f\"✓ {name} 配置檔案存在\")\n",
    "    else:\n",
    "        print(f\"✗ {name} 配置檔案不存在: {path}\")"
   ]
  },
  {
   "cell_type": "markdown",
   "id": "3a96908a",
   "metadata": {},
   "source": [
    "## 3. 測試讀取 YAML 配置檔案\n",
    "\n",
    "現在我們將使用 `YamlConfigReader` 的 `load_config` 方法來讀取 YAML 配置檔案，並查看解析後的配置物件。"
   ]
  },
  {
   "cell_type": "code",
   "execution_count": 3,
   "id": "d95b554f",
   "metadata": {},
   "outputs": [
    {
     "name": "stderr",
     "output_type": "stream",
     "text": [
      "INFO:filereader:正在載入配置檔案: d:\\Git works\\Pysemitip\\Import_Files\\MultInt_config.yaml\n",
      "INFO:filereader:配置驗證通過\n",
      "INFO:filereader:配置檔案載入成功\n"
     ]
    },
    {
     "name": "stdout",
     "output_type": "stream",
     "text": [
      "\n",
      "==== 測試讀取 MultInt 配置檔案 ====\n",
      "✓ MultInt 配置載入成功\n",
      "  - 模擬類型: MultInt\n",
      "  - 配置版本: 1.0\n",
      "  - 溫度: 300.0 K\n",
      "  - 探針半徑: 1.0 nm\n",
      "  - 半導體區域數量: 2\n",
      "  - 表面區域數量: 1\n"
     ]
    }
   ],
   "source": [
    "# 3.1 讀取 MultInt 配置檔案\n",
    "try:\n",
    "    print(\"\\n==== 測試讀取 MultInt 配置檔案 ====\")\n",
    "    reader_multint = YamlConfigReader()\n",
    "    config_multint = reader_multint.load_config(test_files['multint'])\n",
    "    print(f\"✓ MultInt 配置載入成功\")\n",
    "    print(f\"  - 模擬類型: {config_multint.simulation_type}\")\n",
    "    print(f\"  - 配置版本: {config_multint.version}\")\n",
    "    print(f\"  - 溫度: {config_multint.environment.temperature} K\")\n",
    "    print(f\"  - 探針半徑: {config_multint.tip.radius} nm\")\n",
    "    print(f\"  - 半導體區域數量: {len(config_multint.semiconductor_regions)}\")\n",
    "    print(f\"  - 表面區域數量: {len(config_multint.surface_regions)}\")\n",
    "except Exception as e:\n",
    "    print(f\"✗ MultInt 配置載入失敗: {e}\")"
   ]
  },
  {
   "cell_type": "code",
   "execution_count": 4,
   "id": "eac57c48",
   "metadata": {},
   "outputs": [
    {
     "name": "stderr",
     "output_type": "stream",
     "text": [
      "INFO:filereader:正在載入配置檔案: d:\\Git works\\Pysemitip\\Import_Files\\MultPlane_config.yaml\n",
      "INFO:filereader:配置驗證通過\n",
      "INFO:filereader:配置檔案載入成功\n"
     ]
    },
    {
     "name": "stdout",
     "output_type": "stream",
     "text": [
      "\n",
      "==== 測試讀取 MultPlane 配置檔案 ====\n",
      "✓ MultPlane 配置載入成功\n",
      "  - 模擬類型: MultPlane\n",
      "  - 配置版本: 1.0\n",
      "  - 溫度: 300.0 K\n",
      "  - 探針半徑: 1.0 nm\n",
      "  - 半導體區域數量: 1\n",
      "  - 表面區域數量: 1\n"
     ]
    }
   ],
   "source": [
    "# 3.2 讀取 MultPlane 配置檔案\n",
    "try:\n",
    "    print(\"\\n==== 測試讀取 MultPlane 配置檔案 ====\")\n",
    "    reader_multplane = YamlConfigReader()\n",
    "    config_multplane = reader_multplane.load_config(test_files['multplane'])\n",
    "    print(f\"✓ MultPlane 配置載入成功\")\n",
    "    print(f\"  - 模擬類型: {config_multplane.simulation_type}\")\n",
    "    print(f\"  - 配置版本: {config_multplane.version}\")\n",
    "    print(f\"  - 溫度: {config_multplane.environment.temperature} K\")\n",
    "    print(f\"  - 探針半徑: {config_multplane.tip.radius} nm\")\n",
    "    print(f\"  - 半導體區域數量: {len(config_multplane.semiconductor_regions)}\")\n",
    "    print(f\"  - 表面區域數量: {len(config_multplane.surface_regions)}\")\n",
    "except Exception as e:\n",
    "    print(f\"✗ MultPlane 配置載入失敗: {e}\")"
   ]
  },
  {
   "cell_type": "code",
   "execution_count": 5,
   "id": "664870ba",
   "metadata": {},
   "outputs": [
    {
     "name": "stderr",
     "output_type": "stream",
     "text": [
      "INFO:filereader:正在載入配置檔案: d:\\Git works\\Pysemitip\\Import_Files\\MultInt_config.yaml\n",
      "INFO:filereader:配置驗證通過\n",
      "INFO:filereader:配置檔案載入成功\n"
     ]
    },
    {
     "name": "stdout",
     "output_type": "stream",
     "text": [
      "\n",
      "==== 使用便利函數測試 ====\n",
      "✓ 便利函數載入成功\n",
      "  - 模擬類型: MultInt\n"
     ]
    }
   ],
   "source": [
    "# 3.3 使用便利函數測試\n",
    "try:\n",
    "    print(\"\\n==== 使用便利函數測試 ====\")\n",
    "    config = load_yaml_config(test_files['multint'])\n",
    "    print(f\"✓ 便利函數載入成功\")\n",
    "    print(f\"  - 模擬類型: {config.simulation_type}\")\n",
    "except Exception as e:\n",
    "    print(f\"✗ 便利函數載入失敗: {e}\")"
   ]
  },
  {
   "cell_type": "markdown",
   "id": "d4632ad5",
   "metadata": {},
   "source": [
    "## 4. 測試配置物件的屬性訪問\n",
    "\n",
    "接下來我們會測試如何訪問配置物件的各種屬性，包括巢狀結構和向後相容性屬性。"
   ]
  },
  {
   "cell_type": "code",
   "execution_count": 6,
   "id": "c660e678",
   "metadata": {},
   "outputs": [
    {
     "name": "stdout",
     "output_type": "stream",
     "text": [
      "\n",
      "==== 測試配置物件屬性訪問 ====\n",
      "基本屬性:\n",
      "  - 模擬類型: MultInt\n",
      "  - 溫度: 300.0 K\n",
      "  - 介電常數: 12.9\n",
      "\n",
      "探針相關屬性:\n",
      "  - 探針半徑: 1.0 nm\n",
      "  - 探針分離距離: 1.0 nm\n",
      "  - 探針位置: (0.0, 0.0)\n",
      "  - 向後相容 x 位置: 0.0\n",
      "\n",
      "半導體區域屬性:\n",
      "  區域 #1 (ID: 1):\n",
      "    - 施體濃度: 1.00e+18 cm^-3\n",
      "    - 受體濃度: 0.00e+00 cm^-3\n",
      "    - 帶隙: 1.42 eV\n",
      "    - 導帶有效質量: 0.0635\n",
      "  區域 #2 (ID: 2):\n",
      "    - 施體濃度: 0.00e+00 cm^-3\n",
      "    - 受體濃度: 1.00e+18 cm^-3\n",
      "    - 帶隙: 1.42 eV\n",
      "    - 導帶有效質量: 0.0635\n",
      "\n",
      "表面區域屬性:\n",
      "  區域 #1 (ID: 1):\n",
      "    - 第一分佈密度: 4.40e+14 cm^-2 eV^-1\n",
      "    - 中性能級: 0.125 eV\n",
      "\n",
      "特定模擬參數:\n",
      "  MultInt 特有參數:\n",
      "    - 平行波向量數量: 20\n",
      "    - 能量計算點數: 20\n",
      "    - 擴展因子: 20\n"
     ]
    }
   ],
   "source": [
    "# 4.1 訪問基本屬性\n",
    "config = config_multint  # 使用之前載入的 MultInt 配置\n",
    "\n",
    "print(\"\\n==== 測試配置物件屬性訪問 ====\")\n",
    "print(\"基本屬性:\")\n",
    "print(f\"  - 模擬類型: {config.simulation_type}\")\n",
    "print(f\"  - 溫度: {config.temperature} K\")\n",
    "print(f\"  - 介電常數: {config.dielectric_constant}\")\n",
    "\n",
    "# 4.2 訪問探針相關屬性\n",
    "print(\"\\n探針相關屬性:\")\n",
    "print(f\"  - 探針半徑: {config.tip.radius} nm\")\n",
    "print(f\"  - 探針分離距離: {config.tip.separation} nm\")\n",
    "print(f\"  - 探針位置: ({config.tip.position.x}, {config.tip.position.y})\")\n",
    "print(f\"  - 向後相容 x 位置: {config.tip.x_position}\")\n",
    "\n",
    "# 4.3 訪問半導體區域屬性\n",
    "print(\"\\n半導體區域屬性:\")\n",
    "for i, region in enumerate(config.semiconductor_regions):\n",
    "    print(f\"  區域 #{i+1} (ID: {region.id}):\")\n",
    "    print(f\"    - 施體濃度: {region.donor_concentration:.2e} cm^-3\")\n",
    "    print(f\"    - 受體濃度: {region.acceptor_concentration:.2e} cm^-3\")\n",
    "    print(f\"    - 帶隙: {region.band_gap} eV\")\n",
    "    print(f\"    - 導帶有效質量: {region.effective_mass.conduction_band}\")\n",
    "\n",
    "# 4.4 訪問表面區域屬性\n",
    "print(\"\\n表面區域屬性:\")\n",
    "for i, region in enumerate(config.surface_regions):\n",
    "    print(f\"  區域 #{i+1} (ID: {region.id}):\")\n",
    "    print(f\"    - 第一分佈密度: {region.first_distribution.density:.2e} cm^-2 eV^-1\")\n",
    "    print(f\"    - 中性能級: {region.first_distribution.neutrality_level} eV\")\n",
    "\n",
    "# 4.5 訪問特定模擬參數\n",
    "print(\"\\n特定模擬參數:\")\n",
    "if config.multint_specific:\n",
    "    print(\"  MultInt 特有參數:\")\n",
    "    print(f\"    - 平行波向量數量: {config.multint_specific.parallel_wavevectors}\")\n",
    "    print(f\"    - 能量計算點數: {config.multint_specific.energy_points}\")\n",
    "    print(f\"    - 擴展因子: {config.multint_specific.expansion_factor}\")\n",
    "elif config.multplane_specific:\n",
    "    print(\"  MultPlane 特有參數:\")\n",
    "    print(f\"    - 真空寬度: {config.multplane_specific.vacuum_width} nm\")\n",
    "    print(f\"    - 真空間距: {config.multplane_specific.vacuum_spacing} nm\")\n",
    "    print(f\"    - 最大能量擴展: {config.multplane_specific.max_energies}\")"
   ]
  },
  {
   "cell_type": "markdown",
   "id": "92688f18",
   "metadata": {},
   "source": [
    "## 5. 驗證配置內容\n",
    "\n",
    "接下來我們將測試配置物件的驗證功能，檢查配置是否符合要求。"
   ]
  },
  {
   "cell_type": "code",
   "execution_count": 7,
   "id": "85bf3a1b",
   "metadata": {},
   "outputs": [
    {
     "name": "stdout",
     "output_type": "stream",
     "text": [
      "\n",
      "==== 測試配置驗證 ====\n",
      "注意：filereader.py 中的配置驗證已啟用，現在每次讀取配置時都會自動執行驗證\n",
      "✓ 配置驗證通過: True\n"
     ]
    }
   ],
   "source": [
    "# 5.1 測試正確配置的驗證\n",
    "try:\n",
    "    print(\"\\n==== 測試配置驗證 ====\")\n",
    "    print(\"注意：filereader.py 中的配置驗證已啟用，現在每次讀取配置時都會自動執行驗證\")\n",
    "    # 複製一個配置物件\n",
    "    import copy\n",
    "    valid_config = copy.deepcopy(config_multint)\n",
    "    \n",
    "    # 驗證配置\n",
    "    validation_result = valid_config.validate()\n",
    "    print(f\"✓ 配置驗證通過: {validation_result}\")\n",
    "except Exception as e:\n",
    "    print(f\"✗ 配置驗證失敗: {e}\")"
   ]
  },
  {
   "cell_type": "code",
   "execution_count": 8,
   "id": "96be57b2",
   "metadata": {},
   "outputs": [
    {
     "name": "stdout",
     "output_type": "stream",
     "text": [
      "\n",
      "==== 測試錯誤配置驗證 ====\n",
      "將溫度設為: -10.0\n",
      "✓ 測試成功: 正確拋出驗證例外: 配置驗證失敗:\n",
      "- 溫度必須大於 0\n"
     ]
    }
   ],
   "source": [
    "# 5.2 測試錯誤配置的驗證\n",
    "try:\n",
    "    print(\"\\n==== 測試錯誤配置驗證 ====\")\n",
    "    # 創建一個錯誤的配置\n",
    "    invalid_config = copy.deepcopy(config_multint)\n",
    "    \n",
    "    # 設置一個錯誤值（溫度為負值）\n",
    "    invalid_config.temperature = -10.0\n",
    "    print(f\"將溫度設為: {invalid_config.temperature}\")\n",
    "    \n",
    "    # 嘗試驗證\n",
    "    invalid_config.validate()\n",
    "    print(\"✗ 測試失敗: 應該要拋出驗證例外\")\n",
    "except ValueError as e:\n",
    "    print(f\"✓ 測試成功: 正確拋出驗證例外: {e}\")\n",
    "except Exception as e:\n",
    "    print(f\"⚠ 測試部分成功: 拋出了非預期的例外: {e}\")"
   ]
  },
  {
   "cell_type": "markdown",
   "id": "5c1004d5",
   "metadata": {},
   "source": [
    "## 5.3 測試其他配置驗證場景\n",
    "\n",
    "在此節中，我們會測試不同的配置驗證場景，來查看錯誤訊息的顯示。"
   ]
  },
  {
   "cell_type": "code",
   "execution_count": 9,
   "id": "4e27fe30",
   "metadata": {},
   "outputs": [
    {
     "name": "stdout",
     "output_type": "stream",
     "text": [
      "\n",
      "==== 測試配置驗證的詳細輸出 ====\n",
      "配置問題設置:\n",
      "  - 溫度: -50.0 K (應為正值)\n",
      "  - 徑向網格點數: -10 (應為正值)\n",
      "✓ 成功捕獲驗證錯誤:\n",
      "  配置驗證失敗:\n",
      "  - 溫度必須大於 0\n",
      "  - 徑向網格點數必須大於 0\n",
      "\n",
      "日誌輸出:\n"
     ]
    }
   ],
   "source": [
    "# 5.3.1 觀察配置驗證詳細訊息\n",
    "try:\n",
    "    print(\"\\n==== 測試配置驗證的詳細輸出 ====\")\n",
    "    # 創建一個有多個錯誤的配置\n",
    "    import logging\n",
    "    from io import StringIO\n",
    "    \n",
    "    # 暫時將日誌輸出重導到字串網络\n",
    "    log_capture = StringIO()\n",
    "    log_handler = logging.StreamHandler(log_capture)\n",
    "    log_handler.setLevel(logging.INFO)\n",
    "    formatter = logging.Formatter('%(levelname)s:%(name)s:%(message)s')\n",
    "    log_handler.setFormatter(formatter)\n",
    "    \n",
    "    # 取得日誌物件並自定異它\n",
    "    root_logger = logging.getLogger()\n",
    "    original_level = root_logger.level\n",
    "    root_logger.setLevel(logging.INFO)\n",
    "    root_logger.addHandler(log_handler)\n",
    "    \n",
    "    # 創建一個同時有多個錯誤的配置\n",
    "    problematic_config = copy.deepcopy(config_multint)\n",
    "    problematic_config.temperature = -50.0  # 負溫度\n",
    "    problematic_config.grid.radial_points = -10  # 網格點數為負\n",
    "    \n",
    "    print(f\"配置問題設置:\")\n",
    "    print(f\"  - 溫度: {problematic_config.temperature} K (應為正值)\")\n",
    "    print(f\"  - 徑向網格點數: {problematic_config.grid.radial_points} (應為正值)\")\n",
    "    \n",
    "    # 嘗試驗證\n",
    "    try:\n",
    "        problematic_config.validate()\n",
    "        print(\"✗ 驗證失敗: 應該捕獲到錯誤\")\n",
    "    except ValueError as e:\n",
    "        print(f\"✓ 成功捕獲驗證錯誤:\")\n",
    "        # 將錯誤題列出來\n",
    "        error_message = str(e)\n",
    "        error_lines = error_message.split('\\n')\n",
    "        for line in error_lines:\n",
    "            if line.strip():\n",
    "                print(f\"  {line}\")\n",
    "    \n",
    "    # 顯示日誌輸出\n",
    "    print(\"\\n日誌輸出:\")\n",
    "    log_output = log_capture.getvalue().strip().split('\\n')\n",
    "    for line in log_output:\n",
    "        if 'validate' in line.lower() or 'error' in line.lower():\n",
    "            print(f\"  {line}\")\n",
    "    \n",
    "    # 恢復日誌設置\n",
    "    root_logger.removeHandler(log_handler)\n",
    "    root_logger.setLevel(original_level)\n",
    "    \n",
    "except Exception as e:\n",
    "    print(f\"✗ 測試失敗: {e}\")"
   ]
  },
  {
   "cell_type": "code",
   "execution_count": 10,
   "id": "dcac78e9",
   "metadata": {},
   "outputs": [
    {
     "name": "stdout",
     "output_type": "stream",
     "text": [
      "\n",
      "==== 測試網格驗證 ====\n",
      "✓ 成功捕獲網格驗證錯誤:\n",
      "  配置驗證失敗:\n",
      "  - 徑向網格點數必須大於 0 (網格錯誤)\n",
      "  - 真空網格點數必須大於 0 (網格錯誤)\n"
     ]
    }
   ],
   "source": [
    "# 5.3.2 測試網格驗證\n",
    "try:\n",
    "    print(\"\\n==== 測試網格驗證 ====\")\n",
    "    grid_config = copy.deepcopy(config_multint)\n",
    "    # 設置網格參數為負值\n",
    "    grid_config.grid.radial_points = 0\n",
    "    grid_config.grid.vacuum_points = -5\n",
    "    \n",
    "    try:\n",
    "        grid_config.validate()\n",
    "        print(\"✗ 驗證失敗: 應該捕獲到錯誤\")\n",
    "    except ValueError as e:\n",
    "        print(f\"✓ 成功捕獲網格驗證錯誤:\")\n",
    "        # 顯示錯誤訊息\n",
    "        for line in str(e).split('\\n'):\n",
    "            if \"網格\" in line or \"points\" in line.lower():\n",
    "                print(f\"  {line} (網格錯誤)\")\n",
    "            elif line.strip():\n",
    "                print(f\"  {line}\")\n",
    "except Exception as e:\n",
    "    print(f\"✗ 測試錯誤: {e}\")"
   ]
  },
  {
   "cell_type": "code",
   "execution_count": 11,
   "id": "bad6b1ac",
   "metadata": {},
   "outputs": [
    {
     "name": "stdout",
     "output_type": "stream",
     "text": [
      "\n",
      "==== 測試多重驗證錯誤 ====\n",
      "✓ 成功捕獲多重驗證錯誤:\n",
      "  共有 3 個驗證錯誤:\n",
      "  配置驗證失敗:\n",
      "  - 溫度必須大於 0\n",
      "  - 探針半徑必須大於 0\n",
      "  - 電壓點數必須大於 0\n"
     ]
    }
   ],
   "source": [
    "# 5.3.3 測試多重驗證\n",
    "try:\n",
    "    print(\"\\n==== 測試多重驗證錯誤 ====\")\n",
    "    multiple_config = copy.deepcopy(config_multint)\n",
    "    # 設置多個錯誤參數\n",
    "    multiple_config.temperature = -20\n",
    "    multiple_config.tip.radius = -1.0\n",
    "    multiple_config.voltage_scan.points = 0\n",
    "    \n",
    "    try:\n",
    "        multiple_config.validate()\n",
    "        print(\"✗ 驗證失敗: 應該捕獲到錯誤\")\n",
    "    except ValueError as e:\n",
    "        print(f\"✓ 成功捕獲多重驗證錯誤:\")\n",
    "        # 計算錯誤數量\n",
    "        error_count = len([line for line in str(e).split('\\n') if line.strip() and line.strip().startswith('-')])\n",
    "        print(f\"  共有 {error_count} 個驗證錯誤:\")\n",
    "        \n",
    "        # 顯示錯誤訊息\n",
    "        for line in str(e).split('\\n'):\n",
    "            if line.strip():\n",
    "                print(f\"  {line}\")\n",
    "except Exception as e:\n",
    "    print(f\"✗ 測試錯誤: {e}\")"
   ]
  },
  {
   "cell_type": "markdown",
   "id": "f880344c",
   "metadata": {},
   "source": [
    "## 6. 測試修改配置並保存\n",
    "\n",
    "現在我們將測試修改配置物件的屬性，然後將其儲存回 YAML 檔案。"
   ]
  },
  {
   "cell_type": "code",
   "execution_count": null,
   "id": "423d4828",
   "metadata": {},
   "outputs": [],
   "source": [
    "# 6.1 修改配置\n",
    "print(\"\\n==== 測試修改配置 ====\")\n",
    "modified_config = copy.deepcopy(config_multint)\n",
    "\n",
    "# 修改基本參數\n",
    "modified_config.temperature = 350.0\n",
    "modified_config.dielectric_constant = 13.5\n",
    "print(f\"修改溫度為: {modified_config.temperature} K\")\n",
    "print(f\"修改介電常數為: {modified_config.dielectric_constant}\")\n",
    "\n",
    "# 修改探針參數\n",
    "modified_config.tip.radius = 2.0\n",
    "modified_config.tip.separation = 1.5\n",
    "modified_config.tip.position.x = 1.0\n",
    "print(f\"修改探針半徑為: {modified_config.tip.radius} nm\")\n",
    "print(f\"修改探針分離距離為: {modified_config.tip.separation} nm\")\n",
    "print(f\"修改探針 x 位置為: {modified_config.tip.position.x} nm\")\n",
    "\n",
    "# 修改輸出設定\n",
    "modified_config.output_contours = True\n",
    "modified_config.num_contours = 12\n",
    "print(f\"修改等高線輸出為: {modified_config.output_contours}\")\n",
    "print(f\"修改等高線數量為: {modified_config.num_contours}\")"
   ]
  },
  {
   "cell_type": "code",
   "execution_count": null,
   "id": "b2f1e616",
   "metadata": {},
   "outputs": [],
   "source": [
    "# 6.2 儲存修改後的配置\n",
    "try:\n",
    "    print(\"\\n==== 測試儲存配置 ====\")\n",
    "    output_file = output_dir / \"modified_MultInt_config.yaml\"\n",
    "    save_yaml_config(modified_config, output_file)\n",
    "    print(f\"✓ 配置已儲存至: {output_file}\")\n",
    "    \n",
    "    # 讀取剛才儲存的配置並驗證\n",
    "    reload_config = load_yaml_config(output_file)\n",
    "    print(f\"✓ 重新載入成功\")\n",
    "    print(f\"  - 溫度: {reload_config.temperature} K\")\n",
    "    print(f\"  - 介電常數: {reload_config.dielectric_constant}\")\n",
    "    print(f\"  - 探針半徑: {reload_config.tip.radius} nm\")\n",
    "    print(f\"  - 等高線數量: {reload_config.num_contours}\")\n",
    "except Exception as e:\n",
    "    print(f\"✗ 儲存或重新載入配置失敗: {e}\")"
   ]
  },
  {
   "cell_type": "markdown",
   "id": "f5aa327d",
   "metadata": {},
   "source": [
    "## 7. 測試錯誤處理機制\n",
    "\n",
    "最後我們將測試 YAML 讀取器的錯誤處理機制，包括處理不存在的檔案、格式錯誤的 YAML 等。"
   ]
  },
  {
   "cell_type": "code",
   "execution_count": null,
   "id": "b102ee9c",
   "metadata": {},
   "outputs": [],
   "source": [
    "# 7.1 測試檔案不存在的情況\n",
    "try:\n",
    "    print(\"\\n==== 測試不存在的檔案 ====\")\n",
    "    non_existent_file = project_root / \"non_existent_file.yaml\"\n",
    "    reader = YamlConfigReader()\n",
    "    config = reader.load_config(non_existent_file)\n",
    "    print(\"✗ 測試失敗: 應該拋出 FileNotFoundError\")\n",
    "except FileNotFoundError as e:\n",
    "    print(f\"✓ 測試成功: 正確拋出 FileNotFoundError: {e}\")\n",
    "except Exception as e:\n",
    "    print(f\"⚠ 測試部分成功: 拋出了非預期的例外: {e}\")"
   ]
  },
  {
   "cell_type": "code",
   "execution_count": null,
   "id": "bb44254d",
   "metadata": {},
   "outputs": [],
   "source": [
    "# 7.2 測試格式錯誤的 YAML\n",
    "try:\n",
    "    print(\"\\n==== 測試格式錯誤的 YAML ====\")\n",
    "    # 創建格式錯誤的 YAML 檔案\n",
    "    malformed_yaml = \"\"\"\n",
    "    version: \"1.0\"\n",
    "    simulation_type: \"MultInt\"\n",
    "    environment:\n",
    "      temperature: 300.0\n",
    "      dielectric_constant: 12.9\n",
    "    tip:\n",
    "      separation: 1.0\n",
    "      radius: [1.0  # 缺少右方括號，格式錯誤\n",
    "    \"\"\"\n",
    "    \n",
    "    malformed_file = output_dir / \"malformed.yaml\"\n",
    "    with open(malformed_file, 'w', encoding='utf-8') as f:\n",
    "        f.write(malformed_yaml)\n",
    "    \n",
    "    # 嘗試讀取\n",
    "    reader = YamlConfigReader()\n",
    "    config = reader.load_config(malformed_file)\n",
    "    print(\"✗ 測試失敗: 應該拋出 YAML 解析例外\")\n",
    "except yaml.YAMLError as e:\n",
    "    print(f\"✓ 測試成功: 正確拋出 YAML 解析例外: {str(e).split('\\n')[0]}\")\n",
    "except Exception as e:\n",
    "    print(f\"⚠ 測試部分成功: 拋出了非預期的例外: {e}\")\n",
    "finally:\n",
    "    # 清理測試檔案\n",
    "    if 'malformed_file' in locals() and malformed_file.exists():\n",
    "        os.remove(malformed_file)"
   ]
  },
  {
   "cell_type": "markdown",
   "id": "1a4e8158",
   "metadata": {},
   "source": [
    "## 8. 總結\n",
    "\n",
    "在這個筆記本中，我們測試了 SEMITIP YAML 配置檔案讀取器的各項功能：\n",
    "\n",
    "1. 成功讀取了 MultInt 和 MultPlane 配置檔案\n",
    "2. 訪問了配置物件的各種屬性，包括巢狀結構\n",
    "3. 測試了配置的驗證功能，確認正確配置通過驗證，錯誤配置拋出適當例外\n",
    "4. 修改了配置並成功儲存、重新載入\n",
    "5. 測試了錯誤處理機制，包括檔案不存在和 YAML 格式錯誤的情況\n",
    "\n",
    "這些測試確認了 `YamlConfigReader` 類的功能正常運作，可以用於 SEMITIP 專案中的配置管理。"
   ]
  }
 ],
 "metadata": {
  "kernelspec": {
   "display_name": "pysemitip",
   "language": "python",
   "name": "python3"
  },
  "language_info": {
   "codemirror_mode": {
    "name": "ipython",
    "version": 3
   },
   "file_extension": ".py",
   "mimetype": "text/x-python",
   "name": "python",
   "nbconvert_exporter": "python",
   "pygments_lexer": "ipython3",
   "version": "3.12.10"
  }
 },
 "nbformat": 4,
 "nbformat_minor": 5
}
